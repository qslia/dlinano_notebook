{
 "cells": [
  {
   "cell_type": "markdown",
   "metadata": {},
   "source": [
    "<center><img src=\"images/DLI Header.png\" alt=\"Header\" width=\"400\"></center>"
   ]
  },
  {
   "cell_type": "markdown",
   "metadata": {},
   "source": [
    "# 6.0  Live Stream (Optional)\n",
    "### USB WEBCAM CONNECTED TO JETSON NANO REQUIRED\n",
    "\n",
    "In the examples presented so far, the input stream has been a file, played as a stream.  In this notebook, you'll use a live stream via a webcam. Attach a USB webcam to your Jetson Nano using an available USB port.  "
   ]
  },
  {
   "cell_type": "markdown",
   "metadata": {},
   "source": [
    "<img src=\"images/06_example.png\" alt=\"webcam input\">"
   ]
  },
  {
   "cell_type": "markdown",
   "metadata": {},
   "source": [
    "6.1 **[Build a Pipeline with Webcam Input](#06_overview)**<br>\n",
    "&nbsp; &nbsp; &nbsp; 6.1.1 [Practice Application `deepstream-test1-webcam_in`](#06_base)<br>\n",
    "&nbsp; &nbsp; &nbsp; 6.1.2 [Exercise: Build and Run the Base Application](#06_ex_base)<br>\n",
    "6.2 **[Change the Network to YOLO](#06_yolo)**<br>\n",
    "&nbsp; &nbsp; &nbsp; 6.2.1 [Exercise: Run YOLO with a Webcam](#06_ex_yolo)<br>"
   ]
  },
  {
   "cell_type": "markdown",
   "metadata": {},
   "source": [
    "<a name='06_overview'></a>\n",
    "# 6.1 Build a Pipeline with Webcam Input\n",
    "The `deepstream-test1-webcam_in` application is a modification of the `deepstream-test1-rstp_out` application you explored in the first notebook. Compare the pipeline elements defined in the C code in [filesrc deepstream_test_app.c](../deepstream_sdk_v4.0.2_jetson/sources/apps/dli_apps/deepstream-test1-rtsp_out/deepstream_test1_app.c) with the elements in [the webcam deepstream_test1_app.c](../deepstream_sdk_v4.0.2_jetson/sources/apps/dli_apps/deepstream-test1-webcam_in/deepstream_test1_app.c):\n",
    "\n",
    "**filesrc version**\n",
    "```c\n",
    "...\n",
    "\n",
    "  GstElement *pipeline = NULL, *source = NULL, *h264parser = NULL,\n",
    "      *decoder = NULL, *streammux = NULL, *sink = NULL, *pgie = NULL, *nvvidconv = NULL,\n",
    "      *nvosd = NULL, *encoder = NULL, *rtppay = NULL, *transform = NULL, *cap_filter = NULL;\n",
    "\n",
    "...\n",
    "   /* Source element for reading from the file */\n",
    "  source = gst_element_factory_make (\"filesrc\", \"file-source\");\n",
    "\n",
    "  /* Since the data format in the input file is elementary h264 stream,\n",
    "   * we need a h264parser */\n",
    "  h264parser = gst_element_factory_make (\"h264parse\", \"h264-parser\");\n",
    "\n",
    "  /* Use nvdec_h264 for hardware accelerated decode on GPU */\n",
    "  decoder = gst_element_factory_make (\"nvv4l2decoder\", \"nvv4l2-decoder\");\n",
    "\n",
    "  /* Create nvstreammux instance to form batches from one or more sources. */\n",
    "  streammux = gst_element_factory_make (\"nvstreammux\", \"stream-muxer\");\n",
    "\n",
    "...\n",
    "```\n",
    "**webcam version**\n",
    "```c\n",
    "...\n",
    "    \n",
    "  GstElement *pipeline = NULL, *source = NULL, *nvvidconv_src = NULL, *vidconv_src=NULL, \n",
    "      *filter_src=NULL, *streammux = NULL, *sink = NULL, *pgie = NULL, *nvvidconv = NULL,\n",
    "      *nvosd = NULL, *encoder = NULL, *rtppay = NULL, *transform = NULL, *cap_filter = NULL;\n",
    "\n",
    "\n",
    "...\n",
    "\n",
    "  source = gst_element_factory_make (\"v4l2src\", \"camera-source\");\n",
    "  g_object_set (G_OBJECT (source), \"device\", \"/dev/video0\", NULL);\n",
    "  vidconv_src = gst_element_factory_make (\"videoconvert\", \"vidconv_src\");\n",
    "  nvvidconv_src = gst_element_factory_make (\"nvvideoconvert\", \"nvvidconv_src\");\n",
    "  filter_src = gst_element_factory_make (\"capsfilter\", \"filter_src\");\n",
    "  g_object_set (G_OBJECT (nvvidconv_src), \"nvbuf-memory-type\", 0, NULL);\n",
    "  caps_filter_src =\n",
    "        gst_caps_from_string (\"video/x-raw(memory:NVMM), format=NV12, width=1280, height=720, framerate=30/1\");\n",
    "  g_object_set (G_OBJECT (filter_src), \"caps\", caps_filter_src, NULL);\n",
    "  gst_caps_unref (caps_filter_src);\n",
    "\n",
    "  /* Create nvstreammux instance to form batches from one or more sources. */\n",
    "  streammux = gst_element_factory_make (\"nvstreammux\", \"stream-muxer\");\n",
    "```    \n",
    "\n",
    "The remaining elements of the pipeline are the same.\n",
    "\n",
    "In summary, the pipeline for this app consists of the following plugins (ordered):\n",
    "\n",
    "- `GstV4l2Src` - can be used to capture video from v4l2 devices, like webcams and tv cards\n",
    "- `GstVideoConvert` - Convert video frames between a great variety of video formats\n",
    "- `Gst-nvvideoconvert` - performs video color format conversion (I420 to RGBA)\n",
    "- `GstCapsFilter` - enforces limitations on data (no data modification)\n",
    "- `GstH264Parse` - parses the incoming H264 stream\n",
    "- `Gst-nvv4l2decoder` - hardware accelerated decoder; decodes video streams using NVDEC\n",
    "- `Gst-nvstreammux` - batch video streams before sending for AI inference\n",
    "- `Gst-nvinfer` - runs inference using TensorRT\n",
    "- `Gst-nvvideoconvert` - performs video color format conversion (I420 to RGBA)\n",
    "- `Gst-nvdsosd` - draw bounding boxes, text and region of interest (ROI) polygons\n",
    "- `Gst-nvvideoconvert` - performs video color format conversion (RGBA to I420)\n",
    "- `GstCapsFilter` - enforces limitations on data (no data modification)\n",
    "- `Gst-nvv4l2h264enc` - encodes RAW data in I420 format to H264\n",
    "- `GstRtpH264Pay` - converts H264 encoded Payload to RTP packets (RFC 3984)\n",
    "- `GstUDPSink` - sends UDP packets to the network. When paired with RTP payloader (`Gst-rtph264pay`) it can implement RTP streaming"
   ]
  },
  {
   "cell_type": "markdown",
   "metadata": {},
   "source": [
    "<a name='06_base'></a>\n",
    "# 6.1.1 Practice Application `deepstream-test1-webcam_in`\n",
    "This app uses the Resnet10 primary detector provided with the DeepStream SDK.  You'll need to move the webcam over objects that the network can detect, i.e. Vehicle, Person, Bicycle, or Roadsign.  One way to accomplish this is to use a computer screen with these objects visible."
   ]
  },
  {
   "cell_type": "markdown",
   "metadata": {},
   "source": [
    "<a name='06_ex_base'></a>\n",
    "# 6.1.2 Exercise: Build and Run the Base Application\n",
    "Plug in your webcam and execute the following cells. "
   ]
  },
  {
   "cell_type": "code",
   "execution_count": 2,
   "metadata": {},
   "outputs": [
    {
     "name": "stdout",
     "output_type": "stream",
     "text": [
      "/home/dlinano/deepstream_sdk_v4.0.2_jetson/sources/apps/dli_apps/deepstream-test1-webcam_in\n",
      "rm -rf deepstream_test1_app.o deepstream-test1-app\n",
      "cc -c -o deepstream_test1_app.o -DPLATFORM_TEGRA -I../../../includes `pkg-config --cflags gstreamer-1.0` deepstream_test1_app.c\n",
      "cc -o deepstream-test1-app deepstream_test1_app.o `pkg-config --libs gstreamer-1.0` -L/opt/nvidia/deepstream/deepstream-4.0/lib/ -lnvdsgst_meta -lnvds_meta -lgstrtspserver-1.0 -Wl,-rpath,/opt/nvidia/deepstream/deepstream-4.0/lib/\n"
     ]
    }
   ],
   "source": [
    "%cd /home/dlinano/deepstream_sdk_v4.0.2_jetson/sources/apps/dli_apps/deepstream-test1-webcam_in/\n",
    "!make clean\n",
    "!make"
   ]
  },
  {
   "cell_type": "markdown",
   "metadata": {},
   "source": [
    "#### Run the DeepStream app\n",
    "Open the VLC media player on your laptop:\n",
    "- Click \"Media\" and open the  \"Open Network Stream\" dialog.\n",
    "- Set the URL to `rtsp://192.168.55.1:8554/ds-test`.\n",
    "- Start execution of the cell below.\n",
    "- Click \"Play\" on your VLC media player right after you start executing the cell.  \n",
    "\n",
    "The stream will start shortly from the Jetson Nano and display in the media player.  You may experience some lag, or may need to press the play button again on the player.  \n",
    "\n",
    "To stop the stream, click `Kernel -> Interrupt Kernel` from the JupyterLab menu."
   ]
  },
  {
   "cell_type": "code",
   "execution_count": 3,
   "metadata": {},
   "outputs": [
    {
     "name": "stdout",
     "output_type": "stream",
     "text": [
      "/home/dlinano/deepstream_sdk_v4.0.2_jetson/sources/apps/dli_apps/deepstream-test1-webcam_in\n",
      "\n",
      " *** DeepStream: Launched RTSP Streaming at rtsp://localhost:8554/ds-test ***\n",
      "\n",
      "Now playing: (null)\n",
      "Opening in BLOCKING MODE \n",
      "Creating LL OSD context new\n",
      "Running...\n",
      "Creating LL OSD context new\n",
      "NvMMLiteOpen : Block : BlockType = 4 \n",
      "===== NVMEDIA: NVENC =====\n",
      "NvMMLiteBlockCreate : Block : BlockType = 4 \n",
      "H264: Profile = 66, Level = 0 \n",
      "\n",
      "(deepstream-test1-app:18564): GLib-GObject-\u001b[1;33mWARNING\u001b[0m **: \u001b[34m04:40:28.346\u001b[0m: g_object_get_is_valid_property: object class 'GstUDPSrc' has no property named 'pt'\n",
      "^C\n"
     ]
    }
   ],
   "source": [
    "%cd /home/dlinano/deepstream_sdk_v4.0.2_jetson/sources/apps/dli_apps/deepstream-test1-webcam_in/\n",
    "!./deepstream-test1-app"
   ]
  },
  {
   "cell_type": "markdown",
   "metadata": {},
   "source": [
    "<a name='06_yolo'></a>\n",
    "# 6.2 Change the Network to YOLO\n",
    "If you set up the YOLO network in the optional [Using Different Networks]() notebook, you will be able to identify many more objects with your webcam (up to 80!).  The `deepstream-test1-webcam_in-yolo` is very similar to the `deepstream-test1-webcam_in` app, but configured for YOLO.  To see the actual difference in lines, execute the following `diff` command."
   ]
  },
  {
   "cell_type": "code",
   "execution_count": 2,
   "metadata": {},
   "outputs": [
    {
     "name": "stdout",
     "output_type": "stream",
     "text": [
      "/home/dlinano/deepstream_sdk_v4.0.2_jetson/sources/apps/dli_apps\n",
      "286c286\n",
      "<       \"config-file-path\", \"dstest1_pgie_config.txt\", NULL);\n",
      "---\n",
      ">       \"config-file-path\", \"dstest1_pgie_config_yolov3_tiny.txt\", NULL);\n",
      "352,353c352,353\n",
      "<     gst_pad_add_probe (osd_sink_pad, GST_PAD_PROBE_TYPE_BUFFER,\n",
      "<         osd_sink_pad_buffer_probe, NULL, NULL);\n",
      "---\n",
      ">     //gst_pad_add_probe (osd_sink_pad, GST_PAD_PROBE_TYPE_BUFFER,\n",
      ">     //    osd_sink_pad_buffer_probe, NULL, NULL);\n"
     ]
    }
   ],
   "source": [
    "%cd /home/dlinano/deepstream_sdk_v4.0.2_jetson/sources/apps/dli_apps/\n",
    "!diff deepstream-test1-webcam_in/deepstream_test1_app.c deepstream-test1-webcam_in-yolo/deepstream_test1_app.c"
   ]
  },
  {
   "cell_type": "markdown",
   "metadata": {},
   "source": [
    "<a name='06_ex_yolo'></a>\n",
    "# 6.2.1 Run YOLO with a Webcam\n",
    "There will be a delay while the `.engine` file is built."
   ]
  },
  {
   "cell_type": "code",
   "execution_count": 1,
   "metadata": {},
   "outputs": [
    {
     "name": "stdout",
     "output_type": "stream",
     "text": [
      "/home/dlinano/deepstream_sdk_v4.0.2_jetson/sources/apps/dli_apps/deepstream-test1-webcam_in-yolo\n",
      "rm -rf deepstream_test1_app.o deepstream-test1-app\n",
      "cc -c -o deepstream_test1_app.o -DPLATFORM_TEGRA -I../../../includes `pkg-config --cflags gstreamer-1.0` deepstream_test1_app.c\n",
      "cc -o deepstream-test1-app deepstream_test1_app.o `pkg-config --libs gstreamer-1.0` -L/opt/nvidia/deepstream/deepstream-4.0/lib/ -lnvdsgst_meta -lnvds_meta -lgstrtspserver-1.0 -Wl,-rpath,/opt/nvidia/deepstream/deepstream-4.0/lib/\n"
     ]
    }
   ],
   "source": [
    "%cd /home/dlinano/deepstream_sdk_v4.0.2_jetson/sources/apps/dli_apps/deepstream-test1-webcam_in-yolo/\n",
    "!make clean\n",
    "!make"
   ]
  },
  {
   "cell_type": "code",
   "execution_count": 3,
   "metadata": {},
   "outputs": [
    {
     "name": "stdout",
     "output_type": "stream",
     "text": [
      "/home/dlinano/deepstream_sdk_v4.0.2_jetson/sources/apps/dli_apps/deepstream-test1-webcam_in-yolo\n",
      "\n",
      " *** DeepStream: Launched RTSP Streaming at rtsp://localhost:8554/ds-test ***\n",
      "\n",
      "Now playing: (null)\n",
      "Opening in BLOCKING MODE \n",
      "Creating LL OSD context new\n",
      "0:00:04.325434062 \u001b[334m18945\u001b[00m   0x55a7bef860 \u001b[33;01mWARN   \u001b[00m \u001b[00m             nvinfer gstnvinfer.cpp:515:gst_nvinfer_logger:<primary-nvinference-engine>\u001b[00m NvDsInferContext[UID 1]:useEngineFile(): Failed to read from model engine file\n",
      "0:00:04.325497188 \u001b[334m18945\u001b[00m   0x55a7bef860 \u001b[36mINFO   \u001b[00m \u001b[00m             nvinfer gstnvinfer.cpp:519:gst_nvinfer_logger:<primary-nvinference-engine>\u001b[00m NvDsInferContext[UID 1]:initialize(): Trying to create engine from model files\n",
      "Loading pre-trained weights...\n",
      "Loading complete!\n",
      "Total Number of weights read : 62001757\n",
      "      layer               inp_size            out_size       weightPtr\n",
      "(1)   conv-bn-leaky     3 x 608 x 608      32 x 608 x 608    992   \n",
      "(2)   conv-bn-leaky    32 x 608 x 608      64 x 304 x 304    19680 \n",
      "(3)   conv-bn-leaky    64 x 304 x 304      32 x 304 x 304    21856 \n",
      "(4)   conv-bn-leaky    32 x 304 x 304      64 x 304 x 304    40544 \n",
      "(5)   skip             64 x 304 x 304      64 x 304 x 304        - \n",
      "(6)   conv-bn-leaky    64 x 304 x 304     128 x 152 x 152    114784\n",
      "(7)   conv-bn-leaky   128 x 152 x 152      64 x 152 x 152    123232\n",
      "(8)   conv-bn-leaky    64 x 152 x 152     128 x 152 x 152    197472\n",
      "(9)   skip            128 x 152 x 152     128 x 152 x 152        - \n",
      "(10)  conv-bn-leaky   128 x 152 x 152      64 x 152 x 152    205920\n",
      "(11)  conv-bn-leaky    64 x 152 x 152     128 x 152 x 152    280160\n",
      "(12)  skip            128 x 152 x 152     128 x 152 x 152        - \n",
      "(13)  conv-bn-leaky   128 x 152 x 152     256 x  76 x  76    576096\n",
      "(14)  conv-bn-leaky   256 x  76 x  76     128 x  76 x  76    609376\n",
      "(15)  conv-bn-leaky   128 x  76 x  76     256 x  76 x  76    905312\n",
      "(16)  skip            256 x  76 x  76     256 x  76 x  76        - \n",
      "(17)  conv-bn-leaky   256 x  76 x  76     128 x  76 x  76    938592\n",
      "(18)  conv-bn-leaky   128 x  76 x  76     256 x  76 x  76    1234528\n",
      "(19)  skip            256 x  76 x  76     256 x  76 x  76        - \n",
      "(20)  conv-bn-leaky   256 x  76 x  76     128 x  76 x  76    1267808\n",
      "(21)  conv-bn-leaky   128 x  76 x  76     256 x  76 x  76    1563744\n",
      "(22)  skip            256 x  76 x  76     256 x  76 x  76        - \n",
      "(23)  conv-bn-leaky   256 x  76 x  76     128 x  76 x  76    1597024\n",
      "(24)  conv-bn-leaky   128 x  76 x  76     256 x  76 x  76    1892960\n",
      "(25)  skip            256 x  76 x  76     256 x  76 x  76        - \n",
      "(26)  conv-bn-leaky   256 x  76 x  76     128 x  76 x  76    1926240\n",
      "(27)  conv-bn-leaky   128 x  76 x  76     256 x  76 x  76    2222176\n",
      "(28)  skip            256 x  76 x  76     256 x  76 x  76        - \n",
      "(29)  conv-bn-leaky   256 x  76 x  76     128 x  76 x  76    2255456\n",
      "(30)  conv-bn-leaky   128 x  76 x  76     256 x  76 x  76    2551392\n",
      "(31)  skip            256 x  76 x  76     256 x  76 x  76        - \n",
      "(32)  conv-bn-leaky   256 x  76 x  76     128 x  76 x  76    2584672\n",
      "(33)  conv-bn-leaky   128 x  76 x  76     256 x  76 x  76    2880608\n",
      "(34)  skip            256 x  76 x  76     256 x  76 x  76        - \n",
      "(35)  conv-bn-leaky   256 x  76 x  76     128 x  76 x  76    2913888\n",
      "(36)  conv-bn-leaky   128 x  76 x  76     256 x  76 x  76    3209824\n",
      "(37)  skip            256 x  76 x  76     256 x  76 x  76        - \n",
      "(38)  conv-bn-leaky   256 x  76 x  76     512 x  38 x  38    4391520\n",
      "(39)  conv-bn-leaky   512 x  38 x  38     256 x  38 x  38    4523616\n",
      "(40)  conv-bn-leaky   256 x  38 x  38     512 x  38 x  38    5705312\n",
      "(41)  skip            512 x  38 x  38     512 x  38 x  38        - \n",
      "(42)  conv-bn-leaky   512 x  38 x  38     256 x  38 x  38    5837408\n",
      "(43)  conv-bn-leaky   256 x  38 x  38     512 x  38 x  38    7019104\n",
      "(44)  skip            512 x  38 x  38     512 x  38 x  38        - \n",
      "(45)  conv-bn-leaky   512 x  38 x  38     256 x  38 x  38    7151200\n",
      "(46)  conv-bn-leaky   256 x  38 x  38     512 x  38 x  38    8332896\n",
      "(47)  skip            512 x  38 x  38     512 x  38 x  38        - \n",
      "(48)  conv-bn-leaky   512 x  38 x  38     256 x  38 x  38    8464992\n",
      "(49)  conv-bn-leaky   256 x  38 x  38     512 x  38 x  38    9646688\n",
      "(50)  skip            512 x  38 x  38     512 x  38 x  38        - \n",
      "(51)  conv-bn-leaky   512 x  38 x  38     256 x  38 x  38    9778784\n",
      "(52)  conv-bn-leaky   256 x  38 x  38     512 x  38 x  38    10960480\n",
      "(53)  skip            512 x  38 x  38     512 x  38 x  38        - \n",
      "(54)  conv-bn-leaky   512 x  38 x  38     256 x  38 x  38    11092576\n",
      "(55)  conv-bn-leaky   256 x  38 x  38     512 x  38 x  38    12274272\n",
      "(56)  skip            512 x  38 x  38     512 x  38 x  38        - \n",
      "(57)  conv-bn-leaky   512 x  38 x  38     256 x  38 x  38    12406368\n",
      "(58)  conv-bn-leaky   256 x  38 x  38     512 x  38 x  38    13588064\n",
      "(59)  skip            512 x  38 x  38     512 x  38 x  38        - \n",
      "(60)  conv-bn-leaky   512 x  38 x  38     256 x  38 x  38    13720160\n",
      "(61)  conv-bn-leaky   256 x  38 x  38     512 x  38 x  38    14901856\n",
      "(62)  skip            512 x  38 x  38     512 x  38 x  38        - \n",
      "(63)  conv-bn-leaky   512 x  38 x  38    1024 x  19 x  19    19624544\n",
      "(64)  conv-bn-leaky  1024 x  19 x  19     512 x  19 x  19    20150880\n",
      "(65)  conv-bn-leaky   512 x  19 x  19    1024 x  19 x  19    24873568\n",
      "(66)  skip           1024 x  19 x  19    1024 x  19 x  19        - \n",
      "(67)  conv-bn-leaky  1024 x  19 x  19     512 x  19 x  19    25399904\n",
      "(68)  conv-bn-leaky   512 x  19 x  19    1024 x  19 x  19    30122592\n",
      "(69)  skip           1024 x  19 x  19    1024 x  19 x  19        - \n",
      "(70)  conv-bn-leaky  1024 x  19 x  19     512 x  19 x  19    30648928\n",
      "(71)  conv-bn-leaky   512 x  19 x  19    1024 x  19 x  19    35371616\n",
      "(72)  skip           1024 x  19 x  19    1024 x  19 x  19        - \n",
      "(73)  conv-bn-leaky  1024 x  19 x  19     512 x  19 x  19    35897952\n",
      "(74)  conv-bn-leaky   512 x  19 x  19    1024 x  19 x  19    40620640\n",
      "(75)  skip           1024 x  19 x  19    1024 x  19 x  19        - \n",
      "(76)  conv-bn-leaky  1024 x  19 x  19     512 x  19 x  19    41146976\n",
      "(77)  conv-bn-leaky   512 x  19 x  19    1024 x  19 x  19    45869664\n",
      "(78)  conv-bn-leaky  1024 x  19 x  19     512 x  19 x  19    46396000\n",
      "(79)  conv-bn-leaky   512 x  19 x  19    1024 x  19 x  19    51118688\n",
      "(80)  conv-bn-leaky  1024 x  19 x  19     512 x  19 x  19    51645024\n",
      "(81)  conv-bn-leaky   512 x  19 x  19    1024 x  19 x  19    56367712\n",
      "(82)  conv-linear    1024 x  19 x  19     255 x  19 x  19    56629087\n",
      "(83)  yolo            255 x  19 x  19     255 x  19 x  19    56629087\n",
      "(84)  route                  -            512 x  19 x  19    56629087\n",
      "(85)  conv-bn-leaky   512 x  19 x  19     256 x  19 x  19    56761183\n",
      "(86)  upsample        256 x  19 x  19     256 x  38 x  38        - \n",
      "(87)  route                  -            768 x  38 x  38    56761183\n",
      "(88)  conv-bn-leaky   768 x  38 x  38     256 x  38 x  38    56958815\n",
      "(89)  conv-bn-leaky   256 x  38 x  38     512 x  38 x  38    58140511\n",
      "(90)  conv-bn-leaky   512 x  38 x  38     256 x  38 x  38    58272607\n",
      "(91)  conv-bn-leaky   256 x  38 x  38     512 x  38 x  38    59454303\n",
      "(92)  conv-bn-leaky   512 x  38 x  38     256 x  38 x  38    59586399\n",
      "(93)  conv-bn-leaky   256 x  38 x  38     512 x  38 x  38    60768095\n",
      "(94)  conv-linear     512 x  38 x  38     255 x  38 x  38    60898910\n",
      "(95)  yolo            255 x  38 x  38     255 x  38 x  38    60898910\n",
      "(96)  route                  -            256 x  38 x  38    60898910\n",
      "(97)  conv-bn-leaky   256 x  38 x  38     128 x  38 x  38    60932190\n",
      "(98)  upsample        128 x  38 x  38     128 x  76 x  76        - \n",
      "(99)  route                  -            384 x  76 x  76    60932190\n",
      "(100) conv-bn-leaky   384 x  76 x  76     128 x  76 x  76    60981854\n",
      "(101) conv-bn-leaky   128 x  76 x  76     256 x  76 x  76    61277790\n",
      "(102) conv-bn-leaky   256 x  76 x  76     128 x  76 x  76    61311070\n",
      "(103) conv-bn-leaky   128 x  76 x  76     256 x  76 x  76    61607006\n",
      "(104) conv-bn-leaky   256 x  76 x  76     128 x  76 x  76    61640286\n",
      "(105) conv-bn-leaky   128 x  76 x  76     256 x  76 x  76    61936222\n",
      "(106) conv-linear     256 x  76 x  76     255 x  76 x  76    62001757\n",
      "(107) yolo            255 x  76 x  76     255 x  76 x  76    62001757\n",
      "Output blob names :\n",
      "yolo_83\n",
      "yolo_95\n",
      "yolo_107\n",
      "Total number of layers: 257\n",
      "Total number of layers on DLA: 0\n",
      "Building the TensorRT Engine...\n",
      "Building complete!\n",
      "0:09:10.700910890 \u001b[334m18945\u001b[00m   0x55a7bef860 \u001b[36mINFO   \u001b[00m \u001b[00m             nvinfer gstnvinfer.cpp:519:gst_nvinfer_logger:<primary-nvinference-engine>\u001b[00m NvDsInferContext[UID 1]:generateTRTModel(): Storing the serialized cuda engine to file at /home/dlinano/deepstream_sdk_v4.0.2_jetson/sources/apps/dli_apps/deepstream-test1-webcam_in-yolo/model_b1_fp32.engine\n",
      "Deserialize yoloLayerV3 plugin: yolo_83\n",
      "Deserialize yoloLayerV3 plugin: yolo_95\n",
      "Deserialize yoloLayerV3 plugin: yolo_107\n",
      "Running...\n",
      "Creating LL OSD context new\n",
      "NvMMLiteOpen : Block : BlockType = 4 \n",
      "===== NVMEDIA: NVENC =====\n",
      "NvMMLiteBlockCreate : Block : BlockType = 4 \n",
      "H264: Profile = 66, Level = 0 \n",
      "\n",
      "(deepstream-test1-app:18945): GLib-GObject-\u001b[1;33mWARNING\u001b[0m **: \u001b[34m01:05:45.008\u001b[0m: g_object_get_is_valid_property: object class 'GstUDPSrc' has no property named 'pt'\n",
      "^C\n"
     ]
    }
   ],
   "source": [
    "%cd /home/dlinano/deepstream_sdk_v4.0.2_jetson/sources/apps/dli_apps/deepstream-test1-webcam_in-yolo/\n",
    "!./deepstream-test1-app"
   ]
  },
  {
   "cell_type": "markdown",
   "metadata": {},
   "source": [
    "<h2 style=\"color:green;\">Congratulations!</h2>\n",
    "\n",
    "You've completed all the notebooks.  Be sure to work through the assessment questions in the online portion of the DLI course to get your certificate!"
   ]
  },
  {
   "cell_type": "markdown",
   "metadata": {},
   "source": [
    "<center><img src=\"images/DLI Header.png\" alt=\"Header\" width=\"400\"></center>"
   ]
  }
 ],
 "metadata": {
  "kernelspec": {
   "display_name": "Python 3",
   "language": "python",
   "name": "python3"
  },
  "language_info": {
   "codemirror_mode": {
    "name": "ipython",
    "version": 3
   },
   "file_extension": ".py",
   "mimetype": "text/x-python",
   "name": "python",
   "nbconvert_exporter": "python",
   "pygments_lexer": "ipython3",
   "version": "3.6.9"
  }
 },
 "nbformat": 4,
 "nbformat_minor": 4
}
